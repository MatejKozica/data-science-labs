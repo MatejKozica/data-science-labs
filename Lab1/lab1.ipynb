{
 "cells": [
  {
   "cell_type": "markdown",
   "source": [
    "## Kratki pregled za Jupyter Notebook"
   ],
   "metadata": {}
  },
  {
   "cell_type": "markdown",
   "source": [
    "Jupyter Notebook je okruženje za kodiranje temeljeno na pregledniku, koje se intenzivno koristi za izradu prototipa i interaktivni razvoj u aplikacijama za podatkovnu znanost. Jupyter Notebook je evolucija starijeg projekta koji se zove IPython Noteboook (ovo je podrijetlo ekstenzije datoteke prijenosnika “.ipynb”), i dok (kao što ime sugerira) Jupyter Notebook podržava jezike koji nisu Python, trenutno Python je daleko najčešći jezik za ove bilježnice. Opće informacije o Jupyter Notebooku i povezanim projektima mogu se pronaći na stranici [Jupyter project page](http://jupyter.org/)."
   ],
   "metadata": {}
  },
  {
   "cell_type": "markdown",
   "source": [
    "Središnja jedinica unutar Jupyter Notebooka su \"ćelije\". Ove ćelije mogu sadržavati kod ili Markdown (jednostavan jezik za oblikovanje, koji također može uključivati stvari poput LaTeX jednadžbe). Padajući izbornik na vrhu zaslona označava vrstu trenutne ćelije.\n",
    "\n",
    "Ćelije s kodovima mogu se izvršiti pritiskom na gumb ▶❚ na vrhu bilježnice ili češće putem naredbi Shift-Enter (izvrši i prijeđi na sljedeću ćeliju) ili Control-Enter (izvrši i ostani na toj ćeliji). Sav Python kod se izvodi u jednom radnom Python okruženju, koje se zove \"Kernel\" u Jupyter bilježnici. Varijable se dijele u svim ćelijama, a kod se izvršava redoslijedom kojim se ćelije izvode (ne nužno sekvencijalno u bilježnici), što vašu bilježnicu može dovesti u prilično zbunjujuća stanja ako ćelije ne izvršavate uvijek redom.\n",
    "\n",
    "Pogledajmo nekoliko primjera."
   ],
   "metadata": {}
  },
  {
   "cell_type": "code",
   "execution_count": 1,
   "source": [
    "1+2"
   ],
   "outputs": [
    {
     "output_type": "execute_result",
     "data": {
      "text/plain": [
       "3"
      ]
     },
     "metadata": {},
     "execution_count": 1
    }
   ],
   "metadata": {}
  },
  {
   "cell_type": "code",
   "execution_count": 2,
   "source": [
    "a = 1.0\n",
    "b = 2.0"
   ],
   "outputs": [],
   "metadata": {}
  },
  {
   "cell_type": "code",
   "execution_count": 3,
   "source": [
    "print(a)\n",
    "b"
   ],
   "outputs": [
    {
     "output_type": "stream",
     "name": "stdout",
     "text": [
      "1.0\n"
     ]
    },
    {
     "output_type": "execute_result",
     "data": {
      "text/plain": [
       "2.0"
      ]
     },
     "metadata": {},
     "execution_count": 3
    }
   ],
   "metadata": {}
  },
  {
   "cell_type": "code",
   "execution_count": 4,
   "source": [
    "for i in range(10):\n",
    "    print(i)"
   ],
   "outputs": [
    {
     "output_type": "stream",
     "name": "stdout",
     "text": [
      "0\n",
      "1\n",
      "2\n",
      "3\n",
      "4\n",
      "5\n",
      "6\n",
      "7\n",
      "8\n",
      "9\n"
     ]
    }
   ],
   "metadata": {}
  },
  {
   "cell_type": "markdown",
   "source": [
    "Sve naredbe za `print` ispisat će se u odjeljak izlaza iz ćelije, a izlaz će također sadržavati string reprezentaciju objekta koju vraća zadnji red u ćeliji. Dakle, u gornjoj postavci gdje se varijabla `b` pojavljuje u zadnjem retku ćelije, njen sadržaj se ispisuje na kraju izlaza ćelije, nakon svih prethodnih naredbi za ispis koje su se dogodile prije.\n",
    "\n",
    "Bilo koji Python kod bit će valjan u tim ćelijama, tako da možemo uvesti vanjske biblioteke, definirati klase i funkcije itd."
   ],
   "metadata": {}
  },
  {
   "cell_type": "code",
   "execution_count": 5,
   "source": [
    "import requests"
   ],
   "outputs": [
    {
     "output_type": "error",
     "ename": "ModuleNotFoundError",
     "evalue": "No module named 'requests'",
     "traceback": [
      "\u001b[0;31m---------------------------------------------------------------------------\u001b[0m",
      "\u001b[0;31mModuleNotFoundError\u001b[0m                       Traceback (most recent call last)",
      "Cell \u001b[0;32mIn[5], line 1\u001b[0m\n\u001b[0;32m----> 1\u001b[0m \u001b[38;5;28;01mimport\u001b[39;00m \u001b[38;5;21;01mrequests\u001b[39;00m\n",
      "\u001b[0;31mModuleNotFoundError\u001b[0m: No module named 'requests'"
     ]
    }
   ],
   "metadata": {}
  },
  {
   "cell_type": "code",
   "execution_count": null,
   "source": [
    "def square(x):\n",
    "    \"\"\"Square the input x\"\"\"\n",
    "    return x*x"
   ],
   "outputs": [],
   "metadata": {}
  },
  {
   "cell_type": "code",
   "execution_count": null,
   "source": [
    "square(4)"
   ],
   "outputs": [
    {
     "output_type": "execute_result",
     "data": {
      "text/plain": [
       "16"
      ]
     },
     "metadata": {},
     "execution_count": 8
    }
   ],
   "metadata": {}
  },
  {
   "cell_type": "markdown",
   "source": [
    "### Cell magics\n",
    "\n",
    "Osim pokretanja Python koda, Jupyter Notebook ima neke ugrađene rutine za izvođenje operacija izvan Pythona, mjerenje vremena ili analizu izvođenja koda, itd. Ovim \"cell magics\" prethodi `%` (na početku retka ... ovo je tehnički se naziva \"linijska magija\") za single line cell magic i `%%` na početku ćelije za cell magics cjalokupne ćelije. Nećemo pokriti mnoge od njih, ali neke su vrlo korisne pa bi se bilo ok upoznati s osnovama. Puno iscrpniji popis se nalazi se ovdje: [Built-in cell magics](http://ipython.readthedocs.io/en/stable/interactive/magics.html).\n",
    "\n",
    "- Vremenske operacije s `%timeit` (za jednu liniju), `%%timeit` (za cijelu ćeliju). Ova naredba će pokrenuti liniju ili ćeliju više puta i dati prosječno vrijeme. Prilagodljiva je, tako da se operacije koje traju manje vremena izvode češće, kako bi se osigurala bolja procjena vremena izvođenja (dakle, vrijeme potrebno za izvođenje ove naredbe nije indikativno za stvarno vrijeme koje je potrebno za izvođenje kod. Ako želite samo mjeriti vrijeme jednog prolaza, koristeći `%time` ili `%%time`."
   ],
   "metadata": {}
  },
  {
   "cell_type": "code",
   "execution_count": null,
   "source": [
    "%time sum(x**2 for x in range(10000))"
   ],
   "outputs": [
    {
     "output_type": "stream",
     "name": "stdout",
     "text": [
      "CPU times: user 3.02 ms, sys: 12 µs, total: 3.03 ms\n",
      "Wall time: 3.05 ms\n"
     ]
    },
    {
     "output_type": "execute_result",
     "data": {
      "text/plain": [
       "333283335000"
      ]
     },
     "metadata": {},
     "execution_count": 9
    }
   ],
   "metadata": {}
  },
  {
   "cell_type": "markdown",
   "source": [
    "- Izvršite bash naredbe s `%%bash`. Koristite ovo vrlo umjereno."
   ],
   "metadata": {}
  },
  {
   "cell_type": "code",
   "execution_count": null,
   "source": [
    "%%bash\n",
    "ls"
   ],
   "outputs": [
    {
     "output_type": "stream",
     "name": "stdout",
     "text": [
      "lab1\n",
      "lab1.ipynb\n",
      "Untitled.ipynb\n"
     ]
    }
   ],
   "metadata": {}
  },
  {
   "cell_type": "markdown",
   "source": [
    "# Uvod u Python\n",
    "\n",
    "Python je moćan interpretirani jezik visoke razine."
   ],
   "metadata": {
    "id": "VY48mAXCuRa-"
   }
  },
  {
   "cell_type": "markdown",
   "source": [
    "## Varijable"
   ],
   "metadata": {
    "id": "qgtLgu0-uplS"
   }
  },
  {
   "cell_type": "markdown",
   "source": [
    "Cijeli brojevi"
   ],
   "metadata": {
    "id": "aJ0yODE9dpV6"
   }
  },
  {
   "cell_type": "code",
   "execution_count": null,
   "source": [
    "a = 1\n",
    "b = 2\n",
    "print(\"Sum, difference, division:\", a + b, a - b, a // b)"
   ],
   "outputs": [
    {
     "output_type": "stream",
     "name": "stdout",
     "text": [
      "Sum, difference, division: 3 -1 0\n"
     ]
    }
   ],
   "metadata": {
    "id": "EJ4tZ5gYdrOv"
   }
  },
  {
   "cell_type": "markdown",
   "source": [
    "Brojevi s pomičnim zarezom"
   ],
   "metadata": {
    "id": "ZPpnUzuudus2"
   }
  },
  {
   "cell_type": "code",
   "execution_count": null,
   "source": [
    "print(\"Brojevi s pomičnim zarezom:\", 1.0 / 2.0)"
   ],
   "outputs": [
    {
     "output_type": "stream",
     "name": "stdout",
     "text": [
      "Brojevi s pomičnim zarezom: 0.5\n"
     ]
    }
   ],
   "metadata": {
    "id": "oRM7cXildxrf"
   }
  },
  {
   "cell_type": "markdown",
   "source": [
    "Kompleksni brojevi"
   ],
   "metadata": {
    "id": "Q6IzYW72d2Na"
   }
  },
  {
   "cell_type": "code",
   "execution_count": null,
   "source": [
    "print(\"Kompleksni brojevi:\", 1.0 + 1.0j)"
   ],
   "outputs": [
    {
     "output_type": "stream",
     "name": "stdout",
     "text": [
      "Kompleksni brojevi: (1+1j)\n"
     ]
    }
   ],
   "metadata": {
    "id": "3ooBQ-HAd4R-"
   }
  },
  {
   "cell_type": "markdown",
   "source": [
    "Booleans"
   ],
   "metadata": {
    "id": "aRtsNkxLd7AB"
   }
  },
  {
   "cell_type": "code",
   "execution_count": null,
   "source": [
    "a = True\n",
    "b = False\n",
    "print(\"Boolean operations:\", a or b, a and b, not a)"
   ],
   "outputs": [
    {
     "output_type": "stream",
     "name": "stdout",
     "text": [
      "Boolean operations: True False False\n"
     ]
    }
   ],
   "metadata": {
    "id": "mzvtZ2RceARU"
   }
  },
  {
   "cell_type": "markdown",
   "source": [
    "Stringovi"
   ],
   "metadata": {
    "id": "uVzLWAp7eCch"
   }
  },
  {
   "cell_type": "code",
   "execution_count": null,
   "source": [
    "a = \"Ovo je string u Pythonu\"\n",
    "print(\"String:\", a)"
   ],
   "outputs": [
    {
     "output_type": "stream",
     "name": "stdout",
     "text": [
      "String: Ovo je string u Pythonu\n"
     ]
    }
   ],
   "metadata": {
    "id": "jx9zZkzSeHH1"
   }
  },
  {
   "cell_type": "markdown",
   "source": [
    "Mogu se upotrebljavati i jednostruki navodnici"
   ],
   "metadata": {
    "id": "kgTGxeOFeLd1"
   }
  },
  {
   "cell_type": "code",
   "execution_count": null,
   "source": [
    "a = 'Ovo je takodjer string'\n",
    "a"
   ],
   "outputs": [
    {
     "output_type": "execute_result",
     "data": {
      "text/plain": [
       "'Ovo je takodjer string'"
      ]
     },
     "metadata": {},
     "execution_count": 16
    }
   ],
   "metadata": {
    "id": "EkSoAMuJeIlX"
   }
  },
  {
   "cell_type": "markdown",
   "source": [
    "Dugačak string se može razdijeliti na sljedeći način"
   ],
   "metadata": {
    "id": "IvlWLUGLePla"
   }
  },
  {
   "cell_type": "code",
   "execution_count": null,
   "source": [
    "a = (\"Veoma Veoma Veoma \"\n",
    "     \"dugacak dugacak dugacak \"\n",
    "     \"string u Pythonu\"\n",
    "    )\n",
    "a"
   ],
   "outputs": [
    {
     "output_type": "execute_result",
     "data": {
      "text/plain": [
       "'Veoma Veoma Veoma dugacak dugacak dugacak string u Pythonu'"
      ]
     },
     "metadata": {},
     "execution_count": 17
    }
   ],
   "metadata": {
    "id": "Kv_M49fpeS0E"
   }
  },
  {
   "cell_type": "markdown",
   "source": [
    "Ili uspotrebljavajte multiline string"
   ],
   "metadata": {
    "id": "-_UfrpwQeXi4"
   }
  },
  {
   "cell_type": "code",
   "execution_count": null,
   "source": [
    "a = \"\"\"ovo\n",
    "je\n",
    "multiline \n",
    "string\"\"\"\n",
    "a"
   ],
   "outputs": [
    {
     "output_type": "execute_result",
     "data": {
      "text/plain": [
       "'ovo\\nje\\nmultiline \\nstring'"
      ]
     },
     "metadata": {},
     "execution_count": 18
    }
   ],
   "metadata": {
    "id": "uAMadNw5eZQ7"
   }
  },
  {
   "cell_type": "markdown",
   "source": [
    "Konkatenacija Stringa"
   ],
   "metadata": {
    "id": "OJXyqzJ_ehNm"
   }
  },
  {
   "cell_type": "code",
   "execution_count": null,
   "source": [
    "\"str\" + \"ing\""
   ],
   "outputs": [
    {
     "output_type": "execute_result",
     "data": {
      "text/plain": [
       "'string'"
      ]
     },
     "metadata": {},
     "execution_count": 19
    }
   ],
   "metadata": {
    "id": "wxNX3yCOejzb"
   }
  },
  {
   "cell_type": "markdown",
   "source": [
    "Jedna od korisnih string metoda:"
   ],
   "metadata": {
    "id": "gyJYt_dJepTs"
   }
  },
  {
   "cell_type": "code",
   "execution_count": null,
   "source": [
    "print(\"string\".startswith(\"str\"))"
   ],
   "outputs": [
    {
     "output_type": "stream",
     "name": "stdout",
     "text": [
      "True\n"
     ]
    }
   ],
   "metadata": {
    "id": "TfkggKXletFA"
   }
  },
  {
   "cell_type": "markdown",
   "source": [
    "Testirajte sljedeće metode: `.endswith`, `.join`, `.capitalize`"
   ],
   "metadata": {
    "id": "vtQDPYB-fY7x"
   }
  },
  {
   "cell_type": "markdown",
   "source": [
    "String formatting"
   ],
   "metadata": {
    "id": "rWnykIjkfhly"
   }
  },
  {
   "cell_type": "code",
   "execution_count": null,
   "source": [
    "\"This is a number {}, this is another number {}!\".format(10, 20)"
   ],
   "outputs": [
    {
     "output_type": "execute_result",
     "data": {
      "text/plain": [
       "'This is a number 10, this is another number 20!'"
      ]
     },
     "metadata": {},
     "execution_count": 21
    }
   ],
   "metadata": {
    "id": "PToq0omNflP2"
   }
  },
  {
   "cell_type": "markdown",
   "source": [
    "Moguće je specificirati kako je broj formatiran"
   ],
   "metadata": {
    "id": "WgYzAHHSf00K"
   }
  },
  {
   "cell_type": "code",
   "execution_count": null,
   "source": [
    "\"This is pi {:0.2f}!\".format(3.1415)"
   ],
   "outputs": [
    {
     "output_type": "execute_result",
     "data": {
      "text/plain": [
       "'This is pi 3.14!'"
      ]
     },
     "metadata": {},
     "execution_count": 22
    }
   ],
   "metadata": {
    "id": "zGGlXdZQuKnG"
   }
  },
  {
   "cell_type": "markdown",
   "source": [
    "Format stringovi izgledaju ovako:"
   ],
   "metadata": {
    "id": "e2UqKCEDf4n9"
   }
  },
  {
   "cell_type": "code",
   "execution_count": null,
   "source": [
    "f\"This is sum of 2 and 3: {2 + 3}\""
   ],
   "outputs": [
    {
     "output_type": "execute_result",
     "data": {
      "text/plain": [
       "'This is sum of 2 and 3: 5'"
      ]
     },
     "metadata": {},
     "execution_count": 23
    }
   ],
   "metadata": {
    "id": "vao_Xk17f_BP"
   }
  },
  {
   "cell_type": "markdown",
   "source": [
    "## Jednostavne data strukture: lists, maps, sets, tuples\n",
    "\n",
    "Liste are zamišljenje za pohranjivanje vrijednosti u nizu."
   ],
   "metadata": {
    "id": "yDBje-obvc9B"
   }
  },
  {
   "cell_type": "markdown",
   "source": [
    "### Liste"
   ],
   "metadata": {
    "id": "qZp9Hx-9hIRC"
   }
  },
  {
   "cell_type": "code",
   "execution_count": null,
   "source": [
    "array = [1, 4, 2, 3, 8, 7, 6, 5]\n",
    "array"
   ],
   "outputs": [
    {
     "output_type": "execute_result",
     "data": {
      "text/plain": [
       "[1, 4, 2, 3, 8, 7, 6, 5]"
      ]
     },
     "metadata": {},
     "execution_count": 24
    }
   ],
   "metadata": {
    "id": "iEO10YjSgEiP"
   }
  },
  {
   "cell_type": "code",
   "execution_count": null,
   "source": [
    "array[0]"
   ],
   "outputs": [
    {
     "output_type": "execute_result",
     "data": {
      "text/plain": [
       "1"
      ]
     },
     "metadata": {},
     "execution_count": 25
    }
   ],
   "metadata": {
    "id": "vTBtlmzlgQUN"
   }
  },
  {
   "cell_type": "code",
   "execution_count": null,
   "source": [
    "array[1:5]"
   ],
   "outputs": [
    {
     "output_type": "execute_result",
     "data": {
      "text/plain": [
       "[4, 2, 3, 8]"
      ]
     },
     "metadata": {},
     "execution_count": 26
    }
   ],
   "metadata": {
    "id": "tBZ0HPHLgeDc"
   }
  },
  {
   "cell_type": "code",
   "execution_count": null,
   "source": [
    "array[:5]"
   ],
   "outputs": [
    {
     "output_type": "execute_result",
     "data": {
      "text/plain": [
       "[1, 4, 2, 3, 8]"
      ]
     },
     "metadata": {},
     "execution_count": 27
    }
   ],
   "metadata": {
    "id": "0FU3YcmKgmWG"
   }
  },
  {
   "cell_type": "code",
   "execution_count": null,
   "source": [
    "array[5:]"
   ],
   "outputs": [
    {
     "output_type": "execute_result",
     "data": {
      "text/plain": [
       "[7, 6, 5]"
      ]
     },
     "metadata": {},
     "execution_count": 28
    }
   ],
   "metadata": {
    "id": "2ND4QRgggqbV"
   }
  },
  {
   "cell_type": "code",
   "execution_count": null,
   "source": [
    "array[2:7:2]"
   ],
   "outputs": [
    {
     "output_type": "execute_result",
     "data": {
      "text/plain": [
       "[2, 8, 6]"
      ]
     },
     "metadata": {},
     "execution_count": 29
    }
   ],
   "metadata": {
    "id": "8AU5C2aZgxs-"
   }
  },
  {
   "cell_type": "markdown",
   "source": [
    "Liste mogu sadržavati vrijednosti različitih tipova"
   ],
   "metadata": {
    "id": "UFoYM9Vtg33H"
   }
  },
  {
   "cell_type": "code",
   "execution_count": null,
   "source": [
    "[1, 1e-8, \"Hello\"]"
   ],
   "outputs": [
    {
     "output_type": "execute_result",
     "data": {
      "text/plain": [
       "[1, 1e-08, 'Hello']"
      ]
     },
     "metadata": {},
     "execution_count": 30
    }
   ],
   "metadata": {
    "id": "sgHBH0SAvcYB"
   }
  },
  {
   "cell_type": "markdown",
   "source": [
    "### Mape\n",
    "Mape (riječnici) mogu pohraniti odnose između parova vrijednosti"
   ],
   "metadata": {
    "id": "SPP1Cyajwpfa"
   }
  },
  {
   "cell_type": "code",
   "execution_count": null,
   "source": [
    "m = {\"height\": 100., \n",
    "     \"width\": 20.,\n",
    "     \"depth\": 10.}\n",
    "m"
   ],
   "outputs": [
    {
     "output_type": "execute_result",
     "data": {
      "text/plain": [
       "{'height': 100.0, 'width': 20.0, 'depth': 10.0}"
      ]
     },
     "metadata": {},
     "execution_count": 31
    }
   ],
   "metadata": {
    "id": "E9B-8IZ2hVJo"
   }
  },
  {
   "cell_type": "markdown",
   "source": [
    "Dohvaćanje vrijednosti po key-u"
   ],
   "metadata": {
    "id": "_sJCy0_chf3h"
   }
  },
  {
   "cell_type": "code",
   "execution_count": null,
   "source": [
    "m[\"width\"]"
   ],
   "outputs": [
    {
     "output_type": "execute_result",
     "data": {
      "text/plain": [
       "20.0"
      ]
     },
     "metadata": {},
     "execution_count": 32
    }
   ],
   "metadata": {
    "id": "RyqblTcihk4i"
   }
  },
  {
   "cell_type": "markdown",
   "source": [
    "Provjera sadrži li mapa key"
   ],
   "metadata": {
    "id": "GaRxKo1qhmca"
   }
  },
  {
   "cell_type": "code",
   "execution_count": null,
   "source": [
    "\"name\" in m"
   ],
   "outputs": [
    {
     "output_type": "execute_result",
     "data": {
      "text/plain": [
       "False"
      ]
     },
     "metadata": {},
     "execution_count": 33
    }
   ],
   "metadata": {
    "id": "WqOa9VOZh1OA"
   }
  },
  {
   "cell_type": "markdown",
   "source": [
    "Dodavanje nove key-value para"
   ],
   "metadata": {
    "id": "s5Zeyapsh6Go"
   }
  },
  {
   "cell_type": "code",
   "execution_count": null,
   "source": [
    "m[\"name\"] = \"rectangle\""
   ],
   "outputs": [],
   "metadata": {
    "id": "O7iSJmrah-C1"
   }
  },
  {
   "cell_type": "markdown",
   "source": [
    "Ili zamijeniti postojeći"
   ],
   "metadata": {
    "id": "ILJJI_GFiBOy"
   }
  },
  {
   "cell_type": "code",
   "execution_count": null,
   "source": [
    "m[\"name\"] = \"RECTANGLE\""
   ],
   "outputs": [],
   "metadata": {
    "id": "PMGZPVR3iDcN"
   }
  },
  {
   "cell_type": "markdown",
   "source": [
    "Izbrisati key/vrijednost"
   ],
   "metadata": {
    "id": "0R5Wm0sFiFlp"
   }
  },
  {
   "cell_type": "code",
   "execution_count": null,
   "source": [
    "m.pop(\"name\")"
   ],
   "outputs": [
    {
     "output_type": "execute_result",
     "data": {
      "text/plain": [
       "'RECTANGLE'"
      ]
     },
     "metadata": {},
     "execution_count": 36
    }
   ],
   "metadata": {
    "id": "-cMBVYYEiHNT"
   }
  },
  {
   "cell_type": "markdown",
   "source": [
    "### Tuples\n",
    "Tuples su slične listama, ali su nepromjenjivi -- ne mogu se mijenjati"
   ],
   "metadata": {
    "id": "kdYzR2X0zWNE"
   }
  },
  {
   "cell_type": "code",
   "execution_count": null,
   "source": [
    "my_array = [1, 2, 3]\n",
    "my_tuple = (1, 2, 3)\n",
    "\n",
    "# This is OK\n",
    "my_array[0] = 100\n",
    "\n",
    "# This will raise an exception\n",
    "my_tuple[0] = 100"
   ],
   "outputs": [
    {
     "output_type": "error",
     "ename": "TypeError",
     "evalue": "'tuple' object does not support item assignment",
     "traceback": [
      "\u001b[0;31m---------------------------------------------------------------------------\u001b[0m",
      "\u001b[0;31mTypeError\u001b[0m                                 Traceback (most recent call last)",
      "\u001b[0;32m<ipython-input-37-24fb9dc85916>\u001b[0m in \u001b[0;36m<module>\u001b[0;34m\u001b[0m\n\u001b[1;32m      6\u001b[0m \u001b[0;34m\u001b[0m\u001b[0m\n\u001b[1;32m      7\u001b[0m \u001b[0;31m# This will raise an exception\u001b[0m\u001b[0;34m\u001b[0m\u001b[0;34m\u001b[0m\u001b[0;34m\u001b[0m\u001b[0m\n\u001b[0;32m----> 8\u001b[0;31m \u001b[0mmy_tuple\u001b[0m\u001b[0;34m[\u001b[0m\u001b[0;36m0\u001b[0m\u001b[0;34m]\u001b[0m \u001b[0;34m=\u001b[0m \u001b[0;36m100\u001b[0m\u001b[0;34m\u001b[0m\u001b[0;34m\u001b[0m\u001b[0m\n\u001b[0m",
      "\u001b[0;31mTypeError\u001b[0m: 'tuple' object does not support item assignment"
     ]
    }
   ],
   "metadata": {
    "id": "yJSXyvBqzBnc"
   }
  },
  {
   "cell_type": "markdown",
   "source": [
    "### Sets\n",
    "Sets su neuređene zbirke koje podržavaju brzo pretraživanje, umetanje, brisanje i spajanje."
   ],
   "metadata": {
    "id": "IBeeqq6u1EP9"
   }
  },
  {
   "cell_type": "code",
   "execution_count": null,
   "source": [
    "animals = {\"cat\", \"dog\", \"elephant\"}\n",
    "animals"
   ],
   "outputs": [],
   "metadata": {
    "id": "I1aeG-bFzuL1"
   }
  },
  {
   "cell_type": "markdown",
   "source": [
    "Provjeri je li neki element u setu"
   ],
   "metadata": {
    "id": "IKTFuoVCiU4U"
   }
  },
  {
   "cell_type": "code",
   "execution_count": null,
   "source": [
    "\"cat\" in animals"
   ],
   "outputs": [],
   "metadata": {
    "id": "M2SRdoJ9iZkt"
   }
  },
  {
   "cell_type": "markdown",
   "source": [
    "Operacije nad setom: union, intersection, itd."
   ],
   "metadata": {
    "id": "IMPig3GCidQP"
   }
  },
  {
   "cell_type": "code",
   "execution_count": null,
   "source": [
    "animals.union({\"zebra\", \"llama\"})"
   ],
   "outputs": [],
   "metadata": {
    "id": "zX06oDPPihJY"
   }
  },
  {
   "cell_type": "markdown",
   "source": [
    "## Control flow"
   ],
   "metadata": {
    "id": "do27WDEZ1rKc"
   }
  },
  {
   "cell_type": "markdown",
   "source": [
    "if / elif"
   ],
   "metadata": {
    "id": "ZRLfl1pTkw8w"
   }
  },
  {
   "cell_type": "code",
   "execution_count": null,
   "source": [
    "a = int(input())\n",
    "if a > 6:\n",
    "    print(\"a is greater than 6\")\n",
    "elif a < 3:\n",
    "    print(\"a is less than 3\")\n",
    "else:\n",
    "    print(\"a is between 3 and 6\")"
   ],
   "outputs": [],
   "metadata": {
    "id": "6RNIP5pmk0a9"
   }
  },
  {
   "cell_type": "markdown",
   "source": [
    "Petlje"
   ],
   "metadata": {
    "id": "iF11czrvk9Ve"
   }
  },
  {
   "cell_type": "code",
   "execution_count": null,
   "source": [
    "for i in [1, 2, 3, 4]:\n",
    "    print(i)"
   ],
   "outputs": [],
   "metadata": {
    "id": "0FKPTPIklBuR"
   }
  },
  {
   "cell_type": "markdown",
   "source": [
    "Korisne funkcije za petlje:\n",
    "- `range`\n",
    "- `enumerate`\n",
    "- `zip`"
   ],
   "metadata": {
    "id": "WC3CQ6LOlE2K"
   }
  },
  {
   "cell_type": "markdown",
   "source": [
    "Iteracije rječnika"
   ],
   "metadata": {
    "id": "DEXi6o3KlSTw"
   }
  },
  {
   "cell_type": "code",
   "execution_count": null,
   "source": [
    "for k, v in m.items():\n",
    "    print(k, v)"
   ],
   "outputs": [],
   "metadata": {
    "id": "l4j34y5klVQD"
   }
  },
  {
   "cell_type": "markdown",
   "source": [
    "While petlja\n",
    "\n",
    "*Veoma rijetko se upotrebljava while petlja. Sljedeći primjer nije krakterističan za python!*"
   ],
   "metadata": {
    "id": "_82guvm2lb4Y"
   }
  },
  {
   "cell_type": "code",
   "execution_count": null,
   "source": [
    "stop = False\n",
    "i = 10\n",
    "while not stop:\n",
    "    i += 1\n",
    "    if i % 10 == 0:\n",
    "        stop = True\n",
    "        \n",
    "print(i)"
   ],
   "outputs": [],
   "metadata": {
    "id": "_xAlRHDNlcsV"
   }
  },
  {
   "cell_type": "markdown",
   "source": [
    "## List comprehensions"
   ],
   "metadata": {
    "id": "1XOUcES3U_7g"
   }
  },
  {
   "cell_type": "code",
   "execution_count": null,
   "source": [
    "i = []\n",
    "for j in [1, 2, 3]:\n",
    "    i.append(j+1)\n",
    "i"
   ],
   "outputs": [],
   "metadata": {}
  },
  {
   "cell_type": "code",
   "execution_count": null,
   "source": [
    "[i + 1 for i in [1, 2, 3]]"
   ],
   "outputs": [],
   "metadata": {
    "id": "2ii1YsF1VFQt"
   }
  },
  {
   "cell_type": "markdown",
   "source": [
    "Radi i za rječnike također"
   ],
   "metadata": {
    "id": "sP1oejrKVUIo"
   }
  },
  {
   "cell_type": "code",
   "execution_count": null,
   "source": [
    "{str(i): i + 1 for i in [1, 2, 3]}"
   ],
   "outputs": [],
   "metadata": {
    "id": "adCDsD7CVOXi"
   }
  },
  {
   "cell_type": "markdown",
   "source": [
    "## Funkcije"
   ],
   "metadata": {
    "id": "Hr1sBDl6NBCt"
   }
  },
  {
   "cell_type": "markdown",
   "source": [
    "Definiranje funkcija"
   ],
   "metadata": {
    "id": "GnLRc_CKxFsf"
   }
  },
  {
   "cell_type": "code",
   "execution_count": null,
   "source": [
    "def is_odd(a):\n",
    "    return a % 2 == 0\n",
    "\n",
    "is_odd(2)"
   ],
   "outputs": [],
   "metadata": {
    "id": "TZJF3UL2M7fg"
   }
  },
  {
   "cell_type": "markdown",
   "source": [
    "Funkcije mogu biti definirane unutar funkcija"
   ],
   "metadata": {
    "id": "lPhb-mFxxNNp"
   }
  },
  {
   "cell_type": "code",
   "execution_count": null,
   "source": [
    "def is_odd(a):\n",
    "    \n",
    "    def is_divisible(number, base):\n",
    "        return number % base == 0\n",
    "    \n",
    "    return is_divisible(a, 2)\n",
    "\n",
    "is_odd(2)"
   ],
   "outputs": [],
   "metadata": {
    "id": "VYbAIDuBxRne"
   }
  },
  {
   "cell_type": "markdown",
   "source": [
    "Možete dodijeliti predefinirane argumente."
   ],
   "metadata": {
    "id": "Hoh9vryhxckA"
   }
  },
  {
   "cell_type": "code",
   "execution_count": null,
   "source": [
    "def add_or_subtract(first, second, operation=\"sum\"):\n",
    "    if operation == \"sum\":\n",
    "        return first + second\n",
    "    elif operation == \"sub\":\n",
    "        return first - second\n",
    "    else:\n",
    "        print(\"Operation not permitted\")"
   ],
   "outputs": [],
   "metadata": {
    "id": "SbjDzfrVfmF6"
   }
  },
  {
   "cell_type": "markdown",
   "source": [
    "Varargs: veličina argumenta varijable"
   ],
   "metadata": {
    "id": "1Lp6YB6fxqpP"
   }
  },
  {
   "cell_type": "code",
   "execution_count": null,
   "source": [
    "def sum_all(*args):\n",
    "    # args is a list of arguments\n",
    "    result = 0\n",
    "    for arg in args:\n",
    "        result += arg\n",
    "    return result\n",
    "\n",
    "# Call vararg function\n",
    "print(\"Sum of all integers up to 10 =\", sum_all(1, 2, 3, 4, 5, 6, 7, 8, 9))"
   ],
   "outputs": [],
   "metadata": {
    "id": "181garp6xsKA"
   }
  },
  {
   "cell_type": "markdown",
   "source": [
    "Keyword argumenti"
   ],
   "metadata": {
    "id": "dmKKnwyox7Ai"
   }
  },
  {
   "cell_type": "code",
   "execution_count": null,
   "source": [
    "def print_pairs(**kwargs):\n",
    "    # kwargs is a map\n",
    "    for k, v in kwargs.items():\n",
    "        print(k, v)\n",
    "        \n",
    "print_pairs(a=1, b=2)"
   ],
   "outputs": [],
   "metadata": {
    "id": "WJPliTlnx92u"
   }
  },
  {
   "cell_type": "markdown",
   "source": [
    "Keyword-only argumenti"
   ],
   "metadata": {
    "id": "51bg23Fmx-6b"
   }
  },
  {
   "cell_type": "code",
   "execution_count": null,
   "source": [
    "def create_car(*, speed, size):\n",
    "    print(\"Car created with speed\", speed, \"and size\", size)\n",
    "    \n",
    "create_car(speed=9, size=3)"
   ],
   "outputs": [],
   "metadata": {
    "id": "RqZwL6WHyHPN"
   }
  },
  {
   "cell_type": "markdown",
   "source": [
    "Funkcije kao parametri\n",
    "\n",
    "Moguće je proslijediti funkciju kao argument, pretpostavlja se da operacija ovdje predstavlja funkciju"
   ],
   "metadata": {
    "id": "k3Y-h7EAyYhS"
   }
  },
  {
   "cell_type": "code",
   "execution_count": null,
   "source": [
    "def reduce(array, operation):\n",
    "    result = 0\n",
    "    for k, v in enumerate(array):\n",
    "        if k == 0:\n",
    "            result = v\n",
    "        else:\n",
    "            result = operation(v, result)\n",
    "  \n",
    "    return result"
   ],
   "outputs": [],
   "metadata": {
    "id": "b_JDJT_6mrqu"
   }
  },
  {
   "cell_type": "markdown",
   "source": [
    "Primijenite poziv funkcije sa drugom funkciojm `add_or_subtract`\n"
   ],
   "metadata": {
    "id": "X43dSGaQzHye"
   }
  },
  {
   "cell_type": "code",
   "execution_count": null,
   "source": [
    "one_to_nine = [1, 2, 3, 4, 5, 6, 7, 8, 9]\n",
    "print(one_to_nine)\n",
    "\n",
    "print(\"Sum of the array\")\n",
    "#The operation is infered from the default parameter of add_or_subtract\n",
    "reduce(one_to_nine, add_or_subtract)"
   ],
   "outputs": [],
   "metadata": {
    "id": "6rE5TSZRzFWW"
   }
  },
  {
   "cell_type": "markdown",
   "source": [
    "### Lambde\n",
    "\n",
    "Funkcija se može definirati anonimno"
   ],
   "metadata": {
    "id": "8tiErQ4PzdFH"
   }
  },
  {
   "cell_type": "code",
   "execution_count": null,
   "source": [
    "print(\"Product of the array\")\n",
    "reduce(one_to_nine, lambda x, y : x * y)"
   ],
   "outputs": [],
   "metadata": {
    "id": "a8bWni3hzadd"
   }
  },
  {
   "cell_type": "markdown",
   "source": [
    "### Closures\n",
    "\n",
    "Funkcija može vratiti drugu funkciju s određenim ponašanjem ovisno o argumentima"
   ],
   "metadata": {
    "id": "8rBsR8TgzkhS"
   }
  },
  {
   "cell_type": "code",
   "execution_count": null,
   "source": [
    "def get_loss(op_reduce, op_foreach):\n",
    "  \n",
    "    def loss(a, b):\n",
    "        c = []\n",
    "        for av, bv in zip(a, b):\n",
    "            c.append(op_foreach(av, bv))\n",
    "        return op_reduce(c)\n",
    "  \n",
    "    return loss"
   ],
   "outputs": [],
   "metadata": {
    "id": "NQ9l5wxZm4SV"
   }
  },
  {
   "cell_type": "markdown",
   "source": [
    "Ova funkcija može pomoći u definiranju srednje kvadratne pogreške"
   ],
   "metadata": {
    "id": "-L5B35yEz4Ic"
   }
  },
  {
   "cell_type": "code",
   "execution_count": null,
   "source": [
    "mse_loss = get_loss(lambda x : sum(x)/len(x), lambda a, b : (a - b) ** 2)"
   ],
   "outputs": [],
   "metadata": {
    "id": "w4a2_Al4z4qW"
   }
  },
  {
   "cell_type": "markdown",
   "source": [
    "Ili srednje apsolutne pogreške"
   ],
   "metadata": {
    "id": "jXVJNuY40ARh"
   }
  },
  {
   "cell_type": "code",
   "execution_count": null,
   "source": [
    "mae_loss = get_loss(lambda x : sum(x)/len(x), lambda a, b : abs(a - b))"
   ],
   "outputs": [],
   "metadata": {
    "id": "MYcFxRq70A4K"
   }
  },
  {
   "cell_type": "markdown",
   "source": [
    "Možemo provjeriti radi li kao što je predviđeno"
   ],
   "metadata": {
    "id": "FDKP5V-c0GY8"
   }
  },
  {
   "cell_type": "code",
   "execution_count": null,
   "source": [
    "list1 = [0, 1, 1, 3, 0, 2, 3]\n",
    "list2 = [1, 1, 2, 0, 0, 2, 3]\n",
    "\n",
    "list_mse = mse_loss(list1, list2)\n",
    "list_mae = mae_loss(list1, list2)\n",
    "\n",
    "print(\"Two lists:\\n\", list1, \"\\n\", list2)\n",
    "print(\"MSE Loss: {}\\nMAE Loss: {}\".format(list_mse, list_mae))"
   ],
   "outputs": [],
   "metadata": {
    "id": "oYIyTRmN0G6r"
   }
  },
  {
   "cell_type": "markdown",
   "source": [
    "## Exception"
   ],
   "metadata": {
    "id": "LoPGG5zNAjoU"
   }
  },
  {
   "cell_type": "code",
   "execution_count": null,
   "source": [
    "# Throw exception\n",
    "raise Exception\n",
    "\n",
    "raise Exception(\"Something went wrong\")\n",
    "raise ValueError\n",
    "raise IndexError\n",
    "raise StopIteration"
   ],
   "outputs": [],
   "metadata": {
    "id": "eYsGH9tQAlHr"
   }
  },
  {
   "cell_type": "code",
   "execution_count": null,
   "source": [
    "# Catch exceptions\n",
    "try:\n",
    "    raise ValueError\n",
    "except ValueError:\n",
    "    print(\"Do something else\")\n",
    "finally:\n",
    "    print(\"This part runs always. It is useful for closing files or \"\n",
    "          \"releasing other resources\")"
   ],
   "outputs": [],
   "metadata": {
    "id": "IwpCXA3nA3Ap"
   }
  },
  {
   "cell_type": "markdown",
   "source": [
    "## Klase"
   ],
   "metadata": {
    "id": "p1cOGDXHCR-O"
   }
  },
  {
   "cell_type": "markdown",
   "source": [
    "Definicija klase"
   ],
   "metadata": {
    "id": "r-PruhWd02K0"
   }
  },
  {
   "cell_type": "code",
   "execution_count": null,
   "source": [
    "class Shape:\n",
    "    pass"
   ],
   "outputs": [],
   "metadata": {
    "id": "IRXa51OfCPEk"
   }
  },
  {
   "cell_type": "markdown",
   "source": [
    "`shape` je objekt klase `Shape`"
   ],
   "metadata": {
    "id": "y93ArCva06GI"
   }
  },
  {
   "cell_type": "code",
   "execution_count": null,
   "source": [
    "shape = Shape()"
   ],
   "outputs": [],
   "metadata": {
    "id": "0m2SgTiS06tB"
   }
  },
  {
   "cell_type": "markdown",
   "source": [
    "U legacy python-u se koritio način pisanja\n",
    "```python\n",
    "class Shape(object):\n",
    "```\n",
    "Ovo nije više potrebno\n",
    "osim ako ne očekujete da će netko pokrenuti vaš kod u legacy okruženju"
   ],
   "metadata": {
    "id": "F6zvhV8H1BVA"
   }
  },
  {
   "cell_type": "markdown",
   "source": [
    "Malo više o definiranju klasa"
   ],
   "metadata": {
    "id": "C-Kvdhg41Ju3"
   }
  },
  {
   "cell_type": "code",
   "execution_count": null,
   "source": [
    "class Shape:\n",
    "    class_field = 9\n",
    "    \n",
    "    def __init__(self, name):\n",
    "        self.name = name\n",
    "        self.value = 42\n",
    "    \n",
    "    def method(self, a):\n",
    "        return a * 2 + self.value\n",
    "\n",
    "shape = Shape(\"UUPZ\")\n",
    "print(shape.name)"
   ],
   "outputs": [],
   "metadata": {
    "id": "1tCXVcPAB4YQ"
   }
  },
  {
   "cell_type": "markdown",
   "source": [
    "## Imports\n",
    "\n",
    "Dodavanje novih paketa u python vrlo je jednostavno i mnogi su paketi dostupni. Ako želite neku biblioteku, velika je vjerojatnost da ju je netko drugi već napisao.\n",
    "\n",
    "Općenito, to izgledao ovako:"
   ],
   "metadata": {
    "id": "dKU0asYuazOF"
   }
  },
  {
   "cell_type": "code",
   "execution_count": null,
   "source": [
    "import time\n",
    "\n",
    "time.time()"
   ],
   "outputs": [],
   "metadata": {
    "id": "VFeYVIqocjsm"
   }
  },
  {
   "cell_type": "markdown",
   "source": [
    "Možete odrediti koje dijelove paketa želite uvesti"
   ],
   "metadata": {
    "id": "0pNMsOuJctzb"
   }
  },
  {
   "cell_type": "code",
   "execution_count": null,
   "source": [
    "from time import time, sleep\n",
    "\n",
    "print(time())\n",
    "sleep(2)\n",
    "print(time())"
   ],
   "outputs": [],
   "metadata": {
    "id": "jfy8OQqwcr0A"
   }
  },
  {
   "cell_type": "markdown",
   "source": [
    "## Druga zanimljiva svojstva"
   ],
   "metadata": {
    "id": "mSBeBMM-Vi-z"
   }
  },
  {
   "cell_type": "markdown",
   "source": [
    "Multiple assignment"
   ],
   "metadata": {
    "id": "LrQ4hw8KVliz"
   }
  },
  {
   "cell_type": "code",
   "execution_count": null,
   "source": [
    "a, b = 10, 11"
   ],
   "outputs": [],
   "metadata": {
    "id": "xq5p8zc9VqW8"
   }
  },
  {
   "cell_type": "markdown",
   "source": [
    "It works with any kind of list-like objects!"
   ],
   "metadata": {
    "id": "8M8zrRNkVuHM"
   }
  },
  {
   "cell_type": "code",
   "execution_count": null,
   "source": [
    "a, b = [10, 11]"
   ],
   "outputs": [],
   "metadata": {
    "id": "bKPgc-E2Vxfp"
   }
  },
  {
   "cell_type": "markdown",
   "source": [
    "Starred assignment expressions"
   ],
   "metadata": {
    "id": "rXH3h0TVVz8r"
   }
  },
  {
   "cell_type": "code",
   "execution_count": null,
   "source": [
    "a, *b = [1, 2, 3, 4]\n",
    "print(b)"
   ],
   "outputs": [],
   "metadata": {
    "id": "ydvlwtxOV819"
   }
  },
  {
   "cell_type": "markdown",
   "source": [
    "Radi za prefikse i sufikse"
   ],
   "metadata": {
    "id": "FZ4l0DS_WB5-"
   }
  },
  {
   "cell_type": "code",
   "execution_count": null,
   "source": [
    "*a, b, c = [1, 2, 3, 4]\n",
    "print(a)"
   ],
   "outputs": [],
   "metadata": {
    "id": "eX2_V2CRWHLh"
   }
  },
  {
   "cell_type": "markdown",
   "source": [
    "# Vježbe"
   ],
   "metadata": {
    "id": "XHmrP9ayaG6X"
   }
  },
  {
   "cell_type": "markdown",
   "source": [
    "## Vježba 1\n",
    "\n",
    "Napišite funkciju koja uzorkuje uniformni slučajni broj od `a` do `b`.\n",
    "\n",
    "Koristite funkciju `random.random` iz biblioteke `random`. Dokumentaciju možete pogledati [ovdje](https://docs.python.org/3.7/library/random.html)"
   ],
   "metadata": {
    "id": "cUE9SvlVdc4_"
   }
  },
  {
   "cell_type": "code",
   "execution_count": null,
   "source": [
    "import random\n",
    "def sample_one(*, start, end):\n",
    "    return (random.random() * (end-start) + start)\n",
    "print(sample_one(start=10,end=20))"
   ],
   "outputs": [
    {
     "output_type": "stream",
     "name": "stdout",
     "text": [
      "15.220417503220407\n"
     ]
    }
   ],
   "metadata": {
    "id": "Jy7ND3SRkeCj"
   }
  },
  {
   "cell_type": "markdown",
   "source": [
    "## Vježba 2\n",
    "\n",
    "Napišite funkciju koja kreira listu duljine `n` sampleova kao što je to navedeno u Vježbi 1"
   ],
   "metadata": {
    "id": "p7CIN4iWr3tx",
    "tags": []
   }
  },
  {
   "cell_type": "code",
   "execution_count": null,
   "source": [
    "import random\n",
    "def sample_many(*, start, end, n):\n",
    "    a=[]\n",
    "    for i in range(n):\n",
    "        a.append(sample_one(start=start, end=end))\n",
    "    return a\n",
    "sample_many(start=2, end=5, n=3)\n",
    "        \n",
    "        "
   ],
   "outputs": [
    {
     "output_type": "execute_result",
     "data": {
      "text/plain": [
       "[3.3902544903379264, 3.6638260587268574, 4.464220546685397]"
      ]
     },
     "metadata": {},
     "execution_count": 3
    }
   ],
   "metadata": {
    "id": "_UFZLC4ssAm1"
   }
  },
  {
   "cell_type": "code",
   "execution_count": null,
   "source": [
    "import random\n",
    "def sample_many_shorthand(*, start, end, n):\n",
    "    return [sample_one(start=start, end=end) for i in range(n)]\n",
    "sample_many_shorthand(start=2, end=5, n=3)"
   ],
   "outputs": [
    {
     "output_type": "execute_result",
     "data": {
      "text/plain": [
       "[4.99792731297151, 2.7429209711281812, 2.9063352225183845]"
      ]
     },
     "metadata": {},
     "execution_count": 4
    }
   ],
   "metadata": {}
  },
  {
   "cell_type": "markdown",
   "source": [
    "## Vježba 3\n",
    "\n",
    "Napišite funkciju koja računa prosjek popisa brojeva."
   ],
   "metadata": {
    "id": "bDNxuKNHsI-L",
    "tags": []
   }
  },
  {
   "cell_type": "code",
   "execution_count": null,
   "source": [
    "def average(array):\n",
    "    sum=0\n",
    "    for i in range(len(array)):\n",
    "        sum+=array[i]\n",
    "    return sum/len(array)\n",
    "print(average([1,2,3,4,5]));"
   ],
   "outputs": [
    {
     "output_type": "stream",
     "name": "stdout",
     "text": [
      "3.0\n"
     ]
    }
   ],
   "metadata": {
    "id": "vhsHU8qXsH50"
   }
  },
  {
   "cell_type": "code",
   "execution_count": null,
   "source": [
    "def average_shorthand(array):\n",
    "    return sum(array)/len(array)\n",
    "print(average_shorthand([1,2,3,4,5]));"
   ],
   "outputs": [
    {
     "output_type": "stream",
     "name": "stdout",
     "text": [
      "3.0\n"
     ]
    }
   ],
   "metadata": {}
  },
  {
   "cell_type": "markdown",
   "source": [
    "## Vježba 4\n",
    "\n",
    "Napišite funkciju koja kreira `m` lista kao što je navedeno u Vježbi 2 te računa prosjek svake liste"
   ],
   "metadata": {
    "id": "4RS0grGJsUsK"
   }
  },
  {
   "cell_type": "code",
   "execution_count": null,
   "source": [
    "import random\n",
    "def create_population(*, start, end, n, size):\n",
    "    a=[]\n",
    "    for i in range(size):\n",
    "        temp=sample_many(start=start, end=end, n=n)\n",
    "        a.append(average(temp))\n",
    "    return a\n",
    "print(create_population(start=1, end=5, n=5, size=3))"
   ],
   "outputs": [
    {
     "output_type": "stream",
     "name": "stdout",
     "text": [
      "[3.2646971809402054, 3.8993026937412125, 2.823902425159752]\n"
     ]
    }
   ],
   "metadata": {
    "id": "CCl07aGwsTqY"
   }
  },
  {
   "cell_type": "code",
   "execution_count": null,
   "source": [
    "import random\n",
    "def create_population_shorthand(*, start, end, n, size):\n",
    "    return [average_shorthand(sample_many_shorthand(start=start, end=end, n=n)) for i in range(size)]\n",
    "create_population_shorthand(start=1, end=5, n=5, size=3)"
   ],
   "outputs": [
    {
     "output_type": "execute_result",
     "data": {
      "text/plain": [
       "[2.71434256692178, 2.6286160718622584, 3.1726706287756343]"
      ]
     },
     "metadata": {},
     "execution_count": 8
    }
   ],
   "metadata": {}
  },
  {
   "cell_type": "markdown",
   "source": [
    "## Vježba 5"
   ],
   "metadata": {}
  },
  {
   "cell_type": "markdown",
   "source": [
    "Napravite listu prosjeka brojeva između 1.0 i 2.0. Neka je svaka lista veličine 10. Mijenjajte broj prosjeka između 100 do 10000. Prilagodite broj binova u histogramu za najbolju vizualizaciju.\n",
    "\n",
    "Koristite `matplotlib` biblioteku kao što je navedeno:\n",
    "```python\n",
    "from matplotlib import pyplot as plt\n",
    "\n",
    "plt.figure()\n",
    "plt.hist(array, bins=50)\n",
    "plt.show()\n",
    "```"
   ],
   "metadata": {
    "id": "u1pZtZ18tr--"
   }
  },
  {
   "cell_type": "code",
   "execution_count": null,
   "source": [
    "pip install matplotlib"
   ],
   "outputs": [
    {
     "output_type": "stream",
     "name": "stdout",
     "text": [
      "Defaulting to user installation because normal site-packages is not writeable\n",
      "Requirement already satisfied: matplotlib in /home/ntafra00.fesb.hr/.local/lib/python3.6/site-packages (3.3.4)\n",
      "Requirement already satisfied: kiwisolver>=1.0.1 in /home/ntafra00.fesb.hr/.local/lib/python3.6/site-packages (from matplotlib) (1.3.1)\n",
      "Requirement already satisfied: numpy>=1.15 in /home/ntafra00.fesb.hr/.local/lib/python3.6/site-packages (from matplotlib) (1.19.5)\n",
      "Requirement already satisfied: python-dateutil>=2.1 in /usr/lib/python3.6/site-packages (from matplotlib) (2.6.1)\n",
      "Requirement already satisfied: cycler>=0.10 in /home/ntafra00.fesb.hr/.local/lib/python3.6/site-packages (from matplotlib) (0.11.0)\n",
      "Requirement already satisfied: pyparsing!=2.0.4,!=2.1.2,!=2.1.6,>=2.0.3 in /usr/local/lib/python3.6/site-packages (from matplotlib) (3.0.9)\n",
      "Requirement already satisfied: pillow>=6.2.0 in /home/ntafra00.fesb.hr/.local/lib/python3.6/site-packages (from matplotlib) (8.4.0)\n",
      "Requirement already satisfied: six>=1.5 in /usr/lib/python3.6/site-packages (from python-dateutil>=2.1->matplotlib) (1.11.0)\n",
      "Note: you may need to restart the kernel to use updated packages.\n"
     ]
    }
   ],
   "metadata": {}
  },
  {
   "cell_type": "code",
   "execution_count": null,
   "source": [
    "from matplotlib import pyplot as plt\n",
    "\n",
    "plt.figure()\n",
    "plt.hist(create_population_shorthand(start=1.0, end=2.0,n=10,size=10000), bins=50)\n",
    "plt.show()"
   ],
   "outputs": [
    {
     "output_type": "display_data",
     "data": {
      "text/plain": [
       "<Figure size 432x288 with 1 Axes>"
      ],
      "image/png": "[encoded data removed]"
     },
     "metadata": {
      "needs_background": "light"
     }
    }
   ],
   "metadata": {
    "id": "3p1R9T9YtprZ"
   }
  },
  {
   "cell_type": "code",
   "execution_count": null,
   "source": [],
   "outputs": [],
   "metadata": {}
  }
 ],
 "metadata": {
  "colab": {
   "collapsed_sections": [],
   "provenance": []
  },
  "kernelspec": {
   "name": "python3",
   "display_name": "Python 3.9.6 64-bit"
  },
  "language_info": {
   "codemirror_mode": {
    "name": "ipython",
    "version": 3
   },
   "file_extension": ".py",
   "mimetype": "text/x-python",
   "name": "python",
   "nbconvert_exporter": "python",
   "pygments_lexer": "ipython3",
   "version": "3.9.6"
  },
  "vscode": {
   "interpreter": {
    "hash": "b0fa6594d8f4cbf19f97940f81e996739fb7646882a419484c72d19e05852a7e"
   }
  },
  "interpreter": {
   "hash": "ac2eaa0ea0ebeafcc7822e65e46aa9d4f966f30b695406963e145ea4a91cd4fc"
  }
 },
 "nbformat": 4,
 "nbformat_minor": 4
}